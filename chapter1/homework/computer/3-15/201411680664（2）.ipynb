{
 "cells": [
  {
   "cell_type": "code",
   "execution_count": 3,
   "metadata": {
    "collapsed": false,
    "deletable": true,
    "editable": true
   },
   "outputs": [
    {
     "name": "stdout",
     "output_type": "stream",
     "text": [
      "请输入一个正整数，以回车结束。3\n",
      "6\n"
     ]
    }
   ],
   "source": [
    "#练习1：仿照任务2完整代码，打印n!\n",
    "n = int(input('请输入一个正整数，以回车结束。'))\n",
    "\n",
    "i = 0\n",
    "total = 0\n",
    "\n",
    "while i < n:\n",
    "    i = i + 1\n",
    "    total = total + i\n",
    "    \n",
    "print(total)"
   ]
  },
  {
   "cell_type": "code",
   "execution_count": 4,
   "metadata": {
    "collapsed": false,
    "deletable": true,
    "editable": true
   },
   "outputs": [
    {
     "name": "stdout",
     "output_type": "stream",
     "text": [
      "请输入一个整数，作为加数的个数4\n",
      "请输入一个整数，作为加数1\n",
      "请输入一个整数，作为加数1\n",
      "请输入一个整数，作为加数4\n",
      "请输入一个整数，作为加数5\n",
      "11\n"
     ]
    }
   ],
   "source": [
    "#练习2：仿照实践1，写出由用户指定整数个数，并由用户输入多个整数，并求和的代码。\n",
    "n=int(input('请输入一个整数，作为加数的个数'))\n",
    "m=0\n",
    "total=0\n",
    "while m<n:\n",
    "    m=m+1\n",
    "    i=int(input('请输入一个整数，作为加数'))\n",
    "    total=total+i\n",
    "print(total)"
   ]
  },
  {
   "cell_type": "code",
   "execution_count": 7,
   "metadata": {
    "collapsed": false
   },
   "outputs": [
    {
     "name": "stdout",
     "output_type": "stream",
     "text": [
      "请输入一个数字1\n",
      "请继续输入你想输入的数字2\n",
      "结束，谢谢！\n"
     ]
    }
   ],
   "source": [
    "#练习4：用户可以输入的任意多个数字，直到输入所有数字的和比当前输入数字小，且输入所有数字的积比当前输入数字的平方大。\n",
    "n=int(input('请输入一个数字'))\n",
    "c=int(input('请继续输入你想输入的数字'))\n",
    "m=0\n",
    "s=n+c\n",
    "p=n*c\n",
    "\n",
    "while s>=m and p<=m**2:\n",
    "    s=s+m\n",
    "    p=p*m\n",
    "    m=int(input('请继续输入你想输入的数字'))\n",
    "else:\n",
    "    print('结束，谢谢！')"
   ]
  },
  {
   "cell_type": "code",
   "execution_count": null,
   "metadata": {
    "collapsed": true
   },
   "outputs": [],
   "source": [
    "#练习3 用户可以输入的任意多个数字\n",
    "i = 0\n",
    "a = dict()\n",
    "print(\"您可以输入“结束”来终止程序\")\n",
    "while True:\n",
    "    a[i] = input()\n",
    "    if a[i] == '不想输入':\n",
    "        sys.exit(0)"
   ]
  }
 ],
 "metadata": {
  "kernelspec": {
   "display_name": "Python 3",
   "language": "python",
   "name": "python3"
  },
  "language_info": {
   "codemirror_mode": {
    "name": "ipython",
    "version": 3
   },
   "file_extension": ".py",
   "mimetype": "text/x-python",
   "name": "python",
   "nbconvert_exporter": "python",
   "pygments_lexer": "ipython3",
   "version": "3.6.1"
  }
 },
 "nbformat": 4,
 "nbformat_minor": 2
}
